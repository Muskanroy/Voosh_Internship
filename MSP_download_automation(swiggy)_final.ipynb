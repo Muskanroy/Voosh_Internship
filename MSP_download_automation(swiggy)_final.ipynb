{
 "cells": [
  {
   "cell_type": "code",
   "execution_count": 3,
   "metadata": {},
   "outputs": [],
   "source": [
    "# Import libraries\n",
    "import time \n",
    "from tqdm import tqdm\n",
    "import pandas as pd\n",
    "import selenium\n",
    "import os\n",
    "from selenium import webdriver as wb\n",
    "from selenium.webdriver.common.keys import Keys\n",
    "from selenium.webdriver.support import expected_conditions as EC\n",
    "from selenium.webdriver.common.by import By\n",
    "from selenium.webdriver.support.wait import WebDriverWait\n",
    "options=wb.ChromeOptions();\n",
    "prefs={\"download.default_directory\":\"C:\\\\Users\\\\muska\\\\OneDrive\\\\Desktop\\\\Voosh_intern\\\\invoices_download\"};\n",
    "options.add_experimental_option(\"prefs\",prefs);\n",
    "#specify the path to chromedriver.exe (download and save on your computer)\n",
    "webD=wb.Chrome('C:/Users/muska/Downloads/chromedriver_win32 (2)/chromedriver.exe',options=options);\n",
    "webD.maximize_window()\n",
    "webD.get(' https://partner.swiggy.com/login/')"
   ]
  },
  {
   "cell_type": "code",
   "execution_count": 4,
   "metadata": {},
   "outputs": [],
   "source": [
    "username = WebDriverWait(webD, 10).until(EC.element_to_be_clickable((By.CSS_SELECTOR, \"input[name='Mob']\")))\n",
    "password = WebDriverWait(webD, 10).until(EC.element_to_be_clickable((By.CSS_SELECTOR, \"input[name='password']\")))\n",
    "username.clear()\n",
    "username.send_keys(\"7607868071\")\n",
    "password.clear()\n",
    "password.send_keys(\"voosh@123\")\n",
    "login = WebDriverWait(webD, 10).until(EC.element_to_be_clickable((By.CSS_SELECTOR, \"button[type='submit']\"))).click()"
   ]
  },
  {
   "cell_type": "code",
   "execution_count": 5,
   "metadata": {},
   "outputs": [],
   "source": [
    "data=pd.read_excel('C:\\\\Users\\\\muska\\\\OneDrive\\\\Desktop\\\\Voosh_intern\\\\Swiggy restaurant IDs.xlsx')"
   ]
  },
  {
   "cell_type": "code",
   "execution_count": 6,
   "metadata": {
    "scrolled": true
   },
   "outputs": [
    {
     "data": {
      "text/html": [
       "<div>\n",
       "<style scoped>\n",
       "    .dataframe tbody tr th:only-of-type {\n",
       "        vertical-align: middle;\n",
       "    }\n",
       "\n",
       "    .dataframe tbody tr th {\n",
       "        vertical-align: top;\n",
       "    }\n",
       "\n",
       "    .dataframe thead th {\n",
       "        text-align: right;\n",
       "    }\n",
       "</style>\n",
       "<table border=\"1\" class=\"dataframe\">\n",
       "  <thead>\n",
       "    <tr style=\"text-align: right;\">\n",
       "      <th></th>\n",
       "      <th>Unnamed: 0</th>\n",
       "      <th>Unnamed: 1</th>\n",
       "      <th>url</th>\n",
       "      <th>IDs</th>\n",
       "      <th>urls</th>\n",
       "      <th>Zomato_id</th>\n",
       "    </tr>\n",
       "  </thead>\n",
       "  <tbody>\n",
       "    <tr>\n",
       "      <th>0</th>\n",
       "      <td>NaN</td>\n",
       "      <td>NaN</td>\n",
       "      <td>https://partner.swiggy.com/finance/restaurant/</td>\n",
       "      <td>365812</td>\n",
       "      <td>https://partner.swiggy.com/finance/restaurant/...</td>\n",
       "      <td>NaN</td>\n",
       "    </tr>\n",
       "    <tr>\n",
       "      <th>1</th>\n",
       "      <td>NaN</td>\n",
       "      <td>NaN</td>\n",
       "      <td>https://partner.swiggy.com/finance/restaurant/</td>\n",
       "      <td>373098</td>\n",
       "      <td>https://partner.swiggy.com/finance/restaurant/...</td>\n",
       "      <td>NaN</td>\n",
       "    </tr>\n",
       "    <tr>\n",
       "      <th>2</th>\n",
       "      <td>NaN</td>\n",
       "      <td>NaN</td>\n",
       "      <td>https://partner.swiggy.com/finance/restaurant/</td>\n",
       "      <td>377984</td>\n",
       "      <td>https://partner.swiggy.com/finance/restaurant/...</td>\n",
       "      <td>NaN</td>\n",
       "    </tr>\n",
       "    <tr>\n",
       "      <th>3</th>\n",
       "      <td>NaN</td>\n",
       "      <td>NaN</td>\n",
       "      <td>https://partner.swiggy.com/finance/restaurant/</td>\n",
       "      <td>327346</td>\n",
       "      <td>https://partner.swiggy.com/finance/restaurant/...</td>\n",
       "      <td>NaN</td>\n",
       "    </tr>\n",
       "    <tr>\n",
       "      <th>4</th>\n",
       "      <td>NaN</td>\n",
       "      <td>NaN</td>\n",
       "      <td>https://partner.swiggy.com/finance/restaurant/</td>\n",
       "      <td>327350</td>\n",
       "      <td>https://partner.swiggy.com/finance/restaurant/...</td>\n",
       "      <td>NaN</td>\n",
       "    </tr>\n",
       "  </tbody>\n",
       "</table>\n",
       "</div>"
      ],
      "text/plain": [
       "   Unnamed: 0  Unnamed: 1                                             url  \\\n",
       "0         NaN         NaN  https://partner.swiggy.com/finance/restaurant/   \n",
       "1         NaN         NaN  https://partner.swiggy.com/finance/restaurant/   \n",
       "2         NaN         NaN  https://partner.swiggy.com/finance/restaurant/   \n",
       "3         NaN         NaN  https://partner.swiggy.com/finance/restaurant/   \n",
       "4         NaN         NaN  https://partner.swiggy.com/finance/restaurant/   \n",
       "\n",
       "      IDs                                               urls  Zomato_id  \n",
       "0  365812  https://partner.swiggy.com/finance/restaurant/...        NaN  \n",
       "1  373098  https://partner.swiggy.com/finance/restaurant/...        NaN  \n",
       "2  377984  https://partner.swiggy.com/finance/restaurant/...        NaN  \n",
       "3  327346  https://partner.swiggy.com/finance/restaurant/...        NaN  \n",
       "4  327350  https://partner.swiggy.com/finance/restaurant/...        NaN  "
      ]
     },
     "execution_count": 6,
     "metadata": {},
     "output_type": "execute_result"
    }
   ],
   "source": [
    "data.head()"
   ]
  },
  {
   "cell_type": "code",
   "execution_count": 7,
   "metadata": {},
   "outputs": [],
   "source": [
    "data['urls']=data['urls'].apply(lambda x:str(x)+'/')"
   ]
  },
  {
   "cell_type": "code",
   "execution_count": 8,
   "metadata": {},
   "outputs": [
    {
     "data": {
      "text/plain": [
       "range(0, 78)"
      ]
     },
     "execution_count": 8,
     "metadata": {},
     "output_type": "execute_result"
    }
   ],
   "source": [
    "range(len(data['urls'])-2)"
   ]
  },
  {
   "cell_type": "code",
   "execution_count": null,
   "metadata": {},
   "outputs": [],
   "source": [
    "def download():\n",
    "    xpath = '//*[@id=\"react-tabs-1\"]/div/div[4]/div[2]/table/tbody/'\n",
    "    table = webD.find_elements_by_xpath('//*[@id=\"react-tabs-1\"]/div/div[4]/div[2]/table/tbody/tr')\n",
    "    for row in range(len(table)):\n",
    "        while True:\n",
    "            try:\n",
    "#                 status=webD.find_element_by_xpath(xpath+'tr[{}]/td[8]/div/div[1]'.format(row+1)).text\n",
    "#                 if status=='PAID':\n",
    "                date=webD.find_element_by_xpath(xpath+'tr[{}]/td[1]'.format(row+1)).text\n",
    "                if date[3:5]=='07':\n",
    "                    webD.find_element_by_xpath(xpath+'tr[{}]/td[9]/a'.format(row+1)).click()\n",
    "                break\n",
    "            except:\n",
    "                pass"
   ]
  },
  {
   "cell_type": "code",
   "execution_count": null,
   "metadata": {},
   "outputs": [],
   "source": [
    "for i in range(len(data['urls'])-1):\n",
    "\n",
    "    url=data['urls'][i]\n",
    "#     while True:\n",
    "#         try:\n",
    "    webD.get(url)\n",
    "    time.sleep(5)\n",
    "#             break\n",
    "#         except:\n",
    "#             pass\n",
    "    \n",
    "    try:\n",
    "        gotit=webD.find_element_by_xpath('/html/body/div[2]/div/div/button')\n",
    "        gotit.click()\n",
    "    except:\n",
    "        pass\n",
    "#     try:\n",
    "#         cross=webD.find_element_by_xpath('')\n",
    "#         cross.click()\n",
    "#     except:\n",
    "#         pass\n",
    "    webD.switch_to.frame(\"finance-iframe\")\n",
    "    try:\n",
    "        page = webD.find_element_by_xpath('//*[@id=\"react-tabs-1\"]/div/div[4]/div[2]/div/div/div[1]').click()\n",
    "        time.sleep(2)\n",
    "        download()\n",
    "\n",
    "    except:\n",
    "        pass"
   ]
  },
  {
   "cell_type": "code",
   "execution_count": null,
   "metadata": {},
   "outputs": [],
   "source": [
    "import os\n",
    "path='C:\\\\Users\\\\muska\\\\OneDrive\\\\Desktop\\\\Voosh_intern\\\\invoices_download'\n",
    "os.chdir(path)\n",
    "for i in range(len(data['IDs'])-1):\n",
    "    newfolder=str(int(data['IDs'][i]))\n",
    "    os.makedirs(newfolder)\n",
    "    "
   ]
  },
  {
   "cell_type": "code",
   "execution_count": null,
   "metadata": {},
   "outputs": [],
   "source": [
    "import shutil\n",
    "source = 'C:\\\\Users\\\\muska\\\\OneDrive\\\\Desktop\\\\Voosh_intern\\\\invoices_download'\n",
    "for i in range(len(data['IDs'])-1):\n",
    "    \n",
    "    f1=str(int(data['IDs'][i]))\n",
    "    dest ='C:\\\\Users\\\\muska\\\\OneDrive\\\\Desktop\\\\Voosh_intern\\\\invoices_download\\\\'\n",
    "\n",
    "    files = os.listdir(source)\n",
    "\n",
    "    for f in files:\n",
    "        if (f.startswith(\"invoice_\"+f1)):\n",
    "            shutil.move(f, dest+f1)"
   ]
  },
  {
   "cell_type": "code",
   "execution_count": null,
   "metadata": {},
   "outputs": [],
   "source": [
    "import os\n",
    "import shutil\n",
    "for i in range(len(data['IDs'])-1):\n",
    "    f1=str(int(data['IDs'][i]))\n",
    "    dest ='C:\\\\Users\\\\muska\\\\OneDrive\\\\Desktop\\\\Voosh_intern\\\\invoices_download\\\\'\n",
    "#     print(len(os.listdir(dest+f1)))\n",
    "\n",
    "    if len(os.listdir(dest+f1)) == 0:\n",
    "        #print('a')# Check if the folder is empty\n",
    "        shutil.rmtree(dest+f1) "
   ]
  },
  {
   "cell_type": "code",
   "execution_count": null,
   "metadata": {},
   "outputs": [],
   "source": []
  },
  {
   "cell_type": "code",
   "execution_count": null,
   "metadata": {},
   "outputs": [],
   "source": []
  },
  {
   "cell_type": "code",
   "execution_count": null,
   "metadata": {},
   "outputs": [],
   "source": []
  },
  {
   "cell_type": "code",
   "execution_count": null,
   "metadata": {},
   "outputs": [],
   "source": []
  },
  {
   "cell_type": "code",
   "execution_count": null,
   "metadata": {},
   "outputs": [],
   "source": []
  }
 ],
 "metadata": {
  "kernelspec": {
   "display_name": "Python 3",
   "language": "python",
   "name": "python3"
  },
  "language_info": {
   "codemirror_mode": {
    "name": "ipython",
    "version": 3
   },
   "file_extension": ".py",
   "mimetype": "text/x-python",
   "name": "python",
   "nbconvert_exporter": "python",
   "pygments_lexer": "ipython3",
   "version": "3.8.5"
  }
 },
 "nbformat": 4,
 "nbformat_minor": 4
}
