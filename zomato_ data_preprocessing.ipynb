{
 "cells": [
  {
   "cell_type": "markdown",
   "metadata": {},
   "source": [
    "### Reading the raw files"
   ]
  },
  {
   "cell_type": "code",
   "execution_count": 1,
   "metadata": {},
   "outputs": [],
   "source": [
    "import os\n",
    "import pandas as pd\n",
    "# Below we have to change the path\n",
    "cwd = os.path.abspath('C:\\\\Users\\\\muska\\\\OneDrive\\\\Desktop\\\\Voosh_intern\\\\zomato_email\\\\attachments')\n",
    "files = os.listdir(cwd) "
   ]
  },
  {
   "cell_type": "code",
   "execution_count": 2,
   "metadata": {},
   "outputs": [
    {
     "data": {
      "text/plain": [
       "['17939e322757b1b3-settlements_week_17_19607759.csv.csv',\n",
       " '17939e953c3c8c8a-account_statement_week_17_19621413.csv.csv',\n",
       " '17939e953c3c8c8a-settlements_week_17_19621413.csv.csv',\n",
       " '17939ef1bdce33a8-account_statement_week_17_19634367.csv.csv']"
      ]
     },
     "execution_count": 2,
     "metadata": {},
     "output_type": "execute_result"
    }
   ],
   "source": [
    "files[1:5]"
   ]
  },
  {
   "cell_type": "markdown",
   "metadata": {},
   "source": [
    "## Transform the data according to our requirement"
   ]
  },
  {
   "cell_type": "code",
   "execution_count": 3,
   "metadata": {},
   "outputs": [],
   "source": [
    "# Need to change the path\n",
    "path='C:\\\\Users\\\\muska\\\\OneDrive\\\\Desktop\\\\Voosh_intern\\\\zomato_email\\\\attachments\\\\'\n",
    "final=pd.DataFrame()\n",
    "for i in range(len(files)):\n",
    "    if files[i][17:24]=='account':\n",
    "        dct=(pd.read_csv(path+files[i]))\n",
    "        final=final.append([dct],ignore_index=True)"
   ]
  },
  {
   "cell_type": "markdown",
   "metadata": {},
   "source": [
    "### Taking the files of specific month only"
   ]
  },
  {
   "cell_type": "code",
   "execution_count": 4,
   "metadata": {},
   "outputs": [],
   "source": [
    "# change the type of order date column\n",
    "final['Order Date'] = pd.to_datetime(final['Order Date'], errors='coerce')\n",
    "# remove all the files other than specific month\n",
    "final = final[final['Order Date'].dt.month == 7]"
   ]
  },
  {
   "cell_type": "code",
   "execution_count": 5,
   "metadata": {},
   "outputs": [],
   "source": [
    "final=final.sort_values(by=['Res. ID'])"
   ]
  },
  {
   "cell_type": "code",
   "execution_count": 6,
   "metadata": {},
   "outputs": [],
   "source": [
    "final.reset_index(inplace=True)\n",
    "# df.drop(['C', 'D'], axis = 1)\n",
    "final.drop(['index','S.no.','Res. name','Mode of payment','Order status','Settlement status','Settlement date','Bank UTR'], inplace=True, axis=1)\n",
    "# final.drop('S.no.', inplace=True, axis=1)"
   ]
  },
  {
   "cell_type": "code",
   "execution_count": 7,
   "metadata": {},
   "outputs": [
    {
     "data": {
      "text/html": [
       "<div>\n",
       "<style scoped>\n",
       "    .dataframe tbody tr th:only-of-type {\n",
       "        vertical-align: middle;\n",
       "    }\n",
       "\n",
       "    .dataframe tbody tr th {\n",
       "        vertical-align: top;\n",
       "    }\n",
       "\n",
       "    .dataframe thead th {\n",
       "        text-align: right;\n",
       "    }\n",
       "</style>\n",
       "<table border=\"1\" class=\"dataframe\">\n",
       "  <thead>\n",
       "    <tr style=\"text-align: right;\">\n",
       "      <th></th>\n",
       "      <th>Order ID</th>\n",
       "      <th>Order Date</th>\n",
       "      <th>Res. ID</th>\n",
       "      <th>Gross revenue (INR)</th>\n",
       "      <th>Pro discount share (INR)</th>\n",
       "      <th>Customer Compensation (INR)</th>\n",
       "      <th>Customer discount amount (INR)</th>\n",
       "      <th>Commissionable amount (INR)</th>\n",
       "      <th>Commission %</th>\n",
       "      <th>Commission value (INR)</th>\n",
       "      <th>...</th>\n",
       "      <th>Tax collected at source (INR)</th>\n",
       "      <th>TDS amount (INR)</th>\n",
       "      <th>Amount received in cash (INR)</th>\n",
       "      <th>Credit note adjustment (INR)</th>\n",
       "      <th>Promo recovery adjustment (INR)</th>\n",
       "      <th>Ice cream deductions - Hyperpure (INR)</th>\n",
       "      <th>Ice cream handling charge (INR)</th>\n",
       "      <th>Support cost adjustment (INR)</th>\n",
       "      <th>Total adjustment (INR)</th>\n",
       "      <th>Net receivable (INR)</th>\n",
       "    </tr>\n",
       "  </thead>\n",
       "  <tbody>\n",
       "    <tr>\n",
       "      <th>0</th>\n",
       "      <td>2280873211</td>\n",
       "      <td>2021-07-24 13:37:29</td>\n",
       "      <td>19495100</td>\n",
       "      <td>110.7</td>\n",
       "      <td>0</td>\n",
       "      <td>0.0</td>\n",
       "      <td>0</td>\n",
       "      <td>106.0</td>\n",
       "      <td>22</td>\n",
       "      <td>23.32</td>\n",
       "      <td>...</td>\n",
       "      <td>1.06</td>\n",
       "      <td>1.06</td>\n",
       "      <td>0</td>\n",
       "      <td>0</td>\n",
       "      <td>0</td>\n",
       "      <td>0</td>\n",
       "      <td>0</td>\n",
       "      <td>0</td>\n",
       "      <td>0</td>\n",
       "      <td>78.65</td>\n",
       "    </tr>\n",
       "    <tr>\n",
       "      <th>1</th>\n",
       "      <td>2915929659</td>\n",
       "      <td>2021-07-07 13:46:35</td>\n",
       "      <td>19495100</td>\n",
       "      <td>123.4</td>\n",
       "      <td>0</td>\n",
       "      <td>0.0</td>\n",
       "      <td>0</td>\n",
       "      <td>118.0</td>\n",
       "      <td>22</td>\n",
       "      <td>25.96</td>\n",
       "      <td>...</td>\n",
       "      <td>1.18</td>\n",
       "      <td>1.18</td>\n",
       "      <td>0</td>\n",
       "      <td>0</td>\n",
       "      <td>0</td>\n",
       "      <td>0</td>\n",
       "      <td>0</td>\n",
       "      <td>0</td>\n",
       "      <td>0</td>\n",
       "      <td>87.73</td>\n",
       "    </tr>\n",
       "  </tbody>\n",
       "</table>\n",
       "<p>2 rows × 27 columns</p>\n",
       "</div>"
      ],
      "text/plain": [
       "     Order ID          Order Date   Res. ID  Gross revenue (INR)  \\\n",
       "0  2280873211 2021-07-24 13:37:29  19495100                110.7   \n",
       "1  2915929659 2021-07-07 13:46:35  19495100                123.4   \n",
       "\n",
       "  Pro discount share (INR)  Customer Compensation (INR)  \\\n",
       "0                        0                          0.0   \n",
       "1                        0                          0.0   \n",
       "\n",
       "  Customer discount amount (INR)  Commissionable amount (INR) Commission %  \\\n",
       "0                              0                        106.0           22   \n",
       "1                              0                        118.0           22   \n",
       "\n",
       "   Commission value (INR)  ...  Tax collected at source (INR)  \\\n",
       "0                   23.32  ...                           1.06   \n",
       "1                   25.96  ...                           1.18   \n",
       "\n",
       "  TDS amount (INR) Amount received in cash (INR) Credit note adjustment (INR)  \\\n",
       "0             1.06                             0                            0   \n",
       "1             1.18                             0                            0   \n",
       "\n",
       "  Promo recovery adjustment (INR)  Ice cream deductions - Hyperpure (INR)  \\\n",
       "0                               0                                       0   \n",
       "1                               0                                       0   \n",
       "\n",
       "   Ice cream handling charge (INR)  Support cost adjustment (INR)  \\\n",
       "0                                0                              0   \n",
       "1                                0                              0   \n",
       "\n",
       "   Total adjustment (INR) Net receivable (INR)  \n",
       "0                       0                78.65  \n",
       "1                       0                87.73  \n",
       "\n",
       "[2 rows x 27 columns]"
      ]
     },
     "execution_count": 7,
     "metadata": {},
     "output_type": "execute_result"
    }
   ],
   "source": [
    "final.head(2)"
   ]
  },
  {
   "cell_type": "markdown",
   "metadata": {},
   "source": [
    "### renaming the columns"
   ]
  },
  {
   "cell_type": "code",
   "execution_count": 8,
   "metadata": {},
   "outputs": [],
   "source": [
    "#column_mapping\n",
    "final=final.rename(columns={\n",
    "    \"Order ID\": \"order_id\",\n",
    "    \"Order Date\": \"order_date\",\n",
    "    \"Res. ID\": \"store_id\",\n",
    "    \"Gross revenue (INR)\": \"gross_revenue\",\n",
    "    \"Pro discount share (INR)\": \"pro_discount_share\",\n",
    "    \"Customer Compensation (INR)\": \"customer_compensation\",\n",
    "    \"Customer discount amount (INR)\": \"customer_discount_amount\",\n",
    "    \"Commissionable amount (INR)\": \"commissionable_amount\",\n",
    "    \"Commission %\": \"commission_pct\",\n",
    "    \"Commission value (INR)\": \"commission_value\",\n",
    "    \"Convenience fee (INR)\": \"convenience_fee\",\n",
    "    \"Piggybank (INR)\": \"piggy_bank\",\n",
    "    \"Logistics charge (INR)\": \"logistic_charges\",\n",
    "    \"Penalty Amount (INR)\": \"penalty_amount\",\n",
    "    \"Credits Charge (INR)\": \"credit_charge\",\n",
    "    \"Cancellation Refund (INR)\": \"cancellation_refund\",\n",
    "    \"Taxes on Zomato fees (INR)\": \"taxes_on_zomato_fees\",\n",
    "    \"Tax collected at source (INR)\": \"tcs\",\n",
    "    \"TDS amount (INR)\": \"tds\",\n",
    "    \"Amount received in cash (INR)\": \"received_cash\",\n",
    "    \"Credit note adjustment (INR)\": \"credit_note_adjustment\",\n",
    "    \"Promo recovery adjustment (INR)\": \"promo_recovery_adjustment\",\n",
    "    \"Ice cream deductions - Hyperpure (INR)\": \"ice_cream_deduction\",\n",
    "    \"Ice cream handling charge (INR)\": \"ice_cream_handling_charge\",\n",
    "    \"Support cost adjustment (INR)\": \"support_cost_adjustment\",\n",
    "    \"Total adjustment (INR)\": \"total_adjustment\",\n",
    "    \"Net receivable (INR)\": \"net_receivable\",\n",
    "})"
   ]
  },
  {
   "cell_type": "code",
   "execution_count": 9,
   "metadata": {},
   "outputs": [],
   "source": [
    "# convert datatype of columns of DataFrame to numeric\n",
    "# using apply method\n",
    "final[['gross_revenue','pro_discount_share','customer_compensation','customer_discount_amount','commissionable_amount','commission_pct','commission_value','convenience_fee','piggy_bank','logistic_charges','penalty_amount','credit_charge','cancellation_refund','taxes_on_zomato_fees','tcs','tds','received_cash','credit_note_adjustment','promo_recovery_adjustment','ice_cream_deduction','ice_cream_handling_charge','support_cost_adjustment','total_adjustment']] = final[['gross_revenue','pro_discount_share','customer_compensation','customer_discount_amount','commissionable_amount','commission_pct','commission_value','convenience_fee','piggy_bank','logistic_charges','penalty_amount','credit_charge','cancellation_refund','taxes_on_zomato_fees','tcs','tds','received_cash','credit_note_adjustment','promo_recovery_adjustment','ice_cream_deduction','ice_cream_handling_charge','support_cost_adjustment','total_adjustment']].apply(pd.to_numeric)"
   ]
  },
  {
   "cell_type": "markdown",
   "metadata": {},
   "source": [
    "#### adding a new column name as voosh_id "
   ]
  },
  {
   "cell_type": "code",
   "execution_count": 10,
   "metadata": {},
   "outputs": [],
   "source": [
    "final.insert(loc=3, column='voosh_id', value=['' for i in range(final.shape[0])])"
   ]
  },
  {
   "cell_type": "code",
   "execution_count": 11,
   "metadata": {},
   "outputs": [
    {
     "data": {
      "text/html": [
       "<div>\n",
       "<style scoped>\n",
       "    .dataframe tbody tr th:only-of-type {\n",
       "        vertical-align: middle;\n",
       "    }\n",
       "\n",
       "    .dataframe tbody tr th {\n",
       "        vertical-align: top;\n",
       "    }\n",
       "\n",
       "    .dataframe thead th {\n",
       "        text-align: right;\n",
       "    }\n",
       "</style>\n",
       "<table border=\"1\" class=\"dataframe\">\n",
       "  <thead>\n",
       "    <tr style=\"text-align: right;\">\n",
       "      <th></th>\n",
       "      <th>order_id</th>\n",
       "      <th>order_date</th>\n",
       "      <th>store_id</th>\n",
       "      <th>voosh_id</th>\n",
       "      <th>gross_revenue</th>\n",
       "      <th>pro_discount_share</th>\n",
       "      <th>customer_compensation</th>\n",
       "      <th>customer_discount_amount</th>\n",
       "      <th>commissionable_amount</th>\n",
       "      <th>commission_pct</th>\n",
       "      <th>...</th>\n",
       "      <th>tcs</th>\n",
       "      <th>tds</th>\n",
       "      <th>received_cash</th>\n",
       "      <th>credit_note_adjustment</th>\n",
       "      <th>promo_recovery_adjustment</th>\n",
       "      <th>ice_cream_deduction</th>\n",
       "      <th>ice_cream_handling_charge</th>\n",
       "      <th>support_cost_adjustment</th>\n",
       "      <th>total_adjustment</th>\n",
       "      <th>net_receivable</th>\n",
       "    </tr>\n",
       "  </thead>\n",
       "  <tbody>\n",
       "    <tr>\n",
       "      <th>0</th>\n",
       "      <td>2280873211</td>\n",
       "      <td>2021-07-24 13:37:29</td>\n",
       "      <td>19495100</td>\n",
       "      <td></td>\n",
       "      <td>110.7</td>\n",
       "      <td>0</td>\n",
       "      <td>0.0</td>\n",
       "      <td>0</td>\n",
       "      <td>106.0</td>\n",
       "      <td>22</td>\n",
       "      <td>...</td>\n",
       "      <td>1.06</td>\n",
       "      <td>1.06</td>\n",
       "      <td>0</td>\n",
       "      <td>0</td>\n",
       "      <td>0</td>\n",
       "      <td>0</td>\n",
       "      <td>0</td>\n",
       "      <td>0</td>\n",
       "      <td>0</td>\n",
       "      <td>78.65</td>\n",
       "    </tr>\n",
       "    <tr>\n",
       "      <th>1</th>\n",
       "      <td>2915929659</td>\n",
       "      <td>2021-07-07 13:46:35</td>\n",
       "      <td>19495100</td>\n",
       "      <td></td>\n",
       "      <td>123.4</td>\n",
       "      <td>0</td>\n",
       "      <td>0.0</td>\n",
       "      <td>0</td>\n",
       "      <td>118.0</td>\n",
       "      <td>22</td>\n",
       "      <td>...</td>\n",
       "      <td>1.18</td>\n",
       "      <td>1.18</td>\n",
       "      <td>0</td>\n",
       "      <td>0</td>\n",
       "      <td>0</td>\n",
       "      <td>0</td>\n",
       "      <td>0</td>\n",
       "      <td>0</td>\n",
       "      <td>0</td>\n",
       "      <td>87.73</td>\n",
       "    </tr>\n",
       "  </tbody>\n",
       "</table>\n",
       "<p>2 rows × 28 columns</p>\n",
       "</div>"
      ],
      "text/plain": [
       "     order_id          order_date  store_id voosh_id  gross_revenue  \\\n",
       "0  2280873211 2021-07-24 13:37:29  19495100                   110.7   \n",
       "1  2915929659 2021-07-07 13:46:35  19495100                   123.4   \n",
       "\n",
       "   pro_discount_share  customer_compensation  customer_discount_amount  \\\n",
       "0                   0                    0.0                         0   \n",
       "1                   0                    0.0                         0   \n",
       "\n",
       "   commissionable_amount  commission_pct  ...   tcs   tds  received_cash  \\\n",
       "0                  106.0              22  ...  1.06  1.06              0   \n",
       "1                  118.0              22  ...  1.18  1.18              0   \n",
       "\n",
       "   credit_note_adjustment  promo_recovery_adjustment  ice_cream_deduction  \\\n",
       "0                       0                          0                    0   \n",
       "1                       0                          0                    0   \n",
       "\n",
       "   ice_cream_handling_charge  support_cost_adjustment  total_adjustment  \\\n",
       "0                          0                        0                 0   \n",
       "1                          0                        0                 0   \n",
       "\n",
       "   net_receivable  \n",
       "0           78.65  \n",
       "1           87.73  \n",
       "\n",
       "[2 rows x 28 columns]"
      ]
     },
     "execution_count": 11,
     "metadata": {},
     "output_type": "execute_result"
    }
   ],
   "source": [
    "final.head(2)"
   ]
  },
  {
   "cell_type": "markdown",
   "metadata": {},
   "source": [
    "#### Reading the file containing voosh id of the restro, use this file to add voosh id in previous dataframe"
   ]
  },
  {
   "cell_type": "code",
   "execution_count": 12,
   "metadata": {},
   "outputs": [
    {
     "data": {
      "text/html": [
       "<div>\n",
       "<style scoped>\n",
       "    .dataframe tbody tr th:only-of-type {\n",
       "        vertical-align: middle;\n",
       "    }\n",
       "\n",
       "    .dataframe tbody tr th {\n",
       "        vertical-align: top;\n",
       "    }\n",
       "\n",
       "    .dataframe thead th {\n",
       "        text-align: right;\n",
       "    }\n",
       "</style>\n",
       "<table border=\"1\" class=\"dataframe\">\n",
       "  <thead>\n",
       "    <tr style=\"text-align: right;\">\n",
       "      <th></th>\n",
       "      <th>Voosh_Id</th>\n",
       "      <th>Zomato_Id</th>\n",
       "      <th>Swiggy_Id</th>\n",
       "    </tr>\n",
       "  </thead>\n",
       "  <tbody>\n",
       "    <tr>\n",
       "      <th>0</th>\n",
       "      <td>50011</td>\n",
       "      <td>19495100.0</td>\n",
       "      <td>321282.0</td>\n",
       "    </tr>\n",
       "    <tr>\n",
       "      <th>1</th>\n",
       "      <td>50021</td>\n",
       "      <td>19517558.0</td>\n",
       "      <td>328292.0</td>\n",
       "    </tr>\n",
       "    <tr>\n",
       "      <th>2</th>\n",
       "      <td>50031</td>\n",
       "      <td>19518298.0</td>\n",
       "      <td>326337.0</td>\n",
       "    </tr>\n",
       "    <tr>\n",
       "      <th>3</th>\n",
       "      <td>50041</td>\n",
       "      <td>19542272.0</td>\n",
       "      <td>327955.0</td>\n",
       "    </tr>\n",
       "    <tr>\n",
       "      <th>4</th>\n",
       "      <td>50032</td>\n",
       "      <td>19541636.0</td>\n",
       "      <td>327346.0</td>\n",
       "    </tr>\n",
       "  </tbody>\n",
       "</table>\n",
       "</div>"
      ],
      "text/plain": [
       "   Voosh_Id   Zomato_Id  Swiggy_Id\n",
       "0     50011  19495100.0   321282.0\n",
       "1     50021  19517558.0   328292.0\n",
       "2     50031  19518298.0   326337.0\n",
       "3     50041  19542272.0   327955.0\n",
       "4     50032  19541636.0   327346.0"
      ]
     },
     "execution_count": 12,
     "metadata": {},
     "output_type": "execute_result"
    }
   ],
   "source": [
    "# Take the path of the file according to your system (REFER MASTER SHEEET FOR VOOSH ID )\n",
    "import pandas as pd\n",
    "master=pd.read_excel('C:\\\\Users\\\\muska\\\\OneDrive\\\\Desktop\\\\Voosh_intern\\\\Listing Master.xlsx',names=['Voosh_Id','Zomato_Id','Swiggy_Id'],usecols=\"B,D,E\")\n",
    "master.head()"
   ]
  },
  {
   "cell_type": "code",
   "execution_count": 13,
   "metadata": {},
   "outputs": [],
   "source": [
    "master=master.sort_values(by=['Zomato_Id'])\n",
    "# remove the rows in zomato id column containing 0 values.\n",
    "# master=master.loc[(master[['Zomato_Id']] != 0).all(axis=1)]\n",
    "# remove the nan values\n",
    "# master=master.dropna()"
   ]
  },
  {
   "cell_type": "markdown",
   "metadata": {},
   "source": [
    "### assigning the voosh id to their corresponding zomato id "
   ]
  },
  {
   "cell_type": "code",
   "execution_count": 14,
   "metadata": {},
   "outputs": [
    {
     "name": "stderr",
     "output_type": "stream",
     "text": [
      "<ipython-input-14-87438707b6ec>:4: SettingWithCopyWarning: \n",
      "A value is trying to be set on a copy of a slice from a DataFrame\n",
      "\n",
      "See the caveats in the documentation: https://pandas.pydata.org/pandas-docs/stable/user_guide/indexing.html#returning-a-view-versus-a-copy\n",
      "  final['voosh_id'][j]=master['Voosh_Id'][i];\n"
     ]
    }
   ],
   "source": [
    "for i in range(len(master)):\n",
    "    for j in range(len(final)):\n",
    "        if master['Zomato_Id'][i]==final['store_id'][j]:\n",
    "            final['voosh_id'][j]=master['Voosh_Id'][i];"
   ]
  },
  {
   "cell_type": "code",
   "execution_count": 15,
   "metadata": {},
   "outputs": [
    {
     "data": {
      "text/html": [
       "<div>\n",
       "<style scoped>\n",
       "    .dataframe tbody tr th:only-of-type {\n",
       "        vertical-align: middle;\n",
       "    }\n",
       "\n",
       "    .dataframe tbody tr th {\n",
       "        vertical-align: top;\n",
       "    }\n",
       "\n",
       "    .dataframe thead th {\n",
       "        text-align: right;\n",
       "    }\n",
       "</style>\n",
       "<table border=\"1\" class=\"dataframe\">\n",
       "  <thead>\n",
       "    <tr style=\"text-align: right;\">\n",
       "      <th></th>\n",
       "      <th>order_id</th>\n",
       "      <th>order_date</th>\n",
       "      <th>store_id</th>\n",
       "      <th>voosh_id</th>\n",
       "      <th>gross_revenue</th>\n",
       "      <th>pro_discount_share</th>\n",
       "      <th>customer_compensation</th>\n",
       "      <th>customer_discount_amount</th>\n",
       "      <th>commissionable_amount</th>\n",
       "      <th>commission_pct</th>\n",
       "      <th>...</th>\n",
       "      <th>tcs</th>\n",
       "      <th>tds</th>\n",
       "      <th>received_cash</th>\n",
       "      <th>credit_note_adjustment</th>\n",
       "      <th>promo_recovery_adjustment</th>\n",
       "      <th>ice_cream_deduction</th>\n",
       "      <th>ice_cream_handling_charge</th>\n",
       "      <th>support_cost_adjustment</th>\n",
       "      <th>total_adjustment</th>\n",
       "      <th>net_receivable</th>\n",
       "    </tr>\n",
       "  </thead>\n",
       "  <tbody>\n",
       "    <tr>\n",
       "      <th>0</th>\n",
       "      <td>2280873211</td>\n",
       "      <td>2021-07-24 13:37:29</td>\n",
       "      <td>19495100</td>\n",
       "      <td>50311</td>\n",
       "      <td>110.7</td>\n",
       "      <td>0</td>\n",
       "      <td>0.0</td>\n",
       "      <td>0</td>\n",
       "      <td>106.0</td>\n",
       "      <td>22</td>\n",
       "      <td>...</td>\n",
       "      <td>1.06</td>\n",
       "      <td>1.06</td>\n",
       "      <td>0</td>\n",
       "      <td>0</td>\n",
       "      <td>0</td>\n",
       "      <td>0</td>\n",
       "      <td>0</td>\n",
       "      <td>0</td>\n",
       "      <td>0</td>\n",
       "      <td>78.65</td>\n",
       "    </tr>\n",
       "    <tr>\n",
       "      <th>1</th>\n",
       "      <td>2915929659</td>\n",
       "      <td>2021-07-07 13:46:35</td>\n",
       "      <td>19495100</td>\n",
       "      <td>50311</td>\n",
       "      <td>123.4</td>\n",
       "      <td>0</td>\n",
       "      <td>0.0</td>\n",
       "      <td>0</td>\n",
       "      <td>118.0</td>\n",
       "      <td>22</td>\n",
       "      <td>...</td>\n",
       "      <td>1.18</td>\n",
       "      <td>1.18</td>\n",
       "      <td>0</td>\n",
       "      <td>0</td>\n",
       "      <td>0</td>\n",
       "      <td>0</td>\n",
       "      <td>0</td>\n",
       "      <td>0</td>\n",
       "      <td>0</td>\n",
       "      <td>87.73</td>\n",
       "    </tr>\n",
       "  </tbody>\n",
       "</table>\n",
       "<p>2 rows × 28 columns</p>\n",
       "</div>"
      ],
      "text/plain": [
       "     order_id          order_date  store_id voosh_id  gross_revenue  \\\n",
       "0  2280873211 2021-07-24 13:37:29  19495100    50311          110.7   \n",
       "1  2915929659 2021-07-07 13:46:35  19495100    50311          123.4   \n",
       "\n",
       "   pro_discount_share  customer_compensation  customer_discount_amount  \\\n",
       "0                   0                    0.0                         0   \n",
       "1                   0                    0.0                         0   \n",
       "\n",
       "   commissionable_amount  commission_pct  ...   tcs   tds  received_cash  \\\n",
       "0                  106.0              22  ...  1.06  1.06              0   \n",
       "1                  118.0              22  ...  1.18  1.18              0   \n",
       "\n",
       "   credit_note_adjustment  promo_recovery_adjustment  ice_cream_deduction  \\\n",
       "0                       0                          0                    0   \n",
       "1                       0                          0                    0   \n",
       "\n",
       "   ice_cream_handling_charge  support_cost_adjustment  total_adjustment  \\\n",
       "0                          0                        0                 0   \n",
       "1                          0                        0                 0   \n",
       "\n",
       "   net_receivable  \n",
       "0           78.65  \n",
       "1           87.73  \n",
       "\n",
       "[2 rows x 28 columns]"
      ]
     },
     "execution_count": 15,
     "metadata": {},
     "output_type": "execute_result"
    }
   ],
   "source": [
    "final.head(2)"
   ]
  },
  {
   "cell_type": "markdown",
   "metadata": {},
   "source": [
    "### saving the data as csv file"
   ]
  },
  {
   "cell_type": "code",
   "execution_count": 16,
   "metadata": {},
   "outputs": [],
   "source": [
    "# get a list of store_id\n",
    "res_id=final['store_id'].unique().tolist()\n",
    "for i in res_id:\n",
    "# now we can perform a lookup on a 'view' of the dataframe\n",
    "    newdf = final.loc[final['store_id']==int(i)]\n",
    "    # Specify the path where you want to save the files\n",
    "    newdf.to_csv(\"C:\\\\Users\\\\muska\\\\OneDrive\\\\Desktop\\\\Voosh_intern\\\\Transformed_zomato\\\\\"+\"invoice_{}.csv\".format(i))"
   ]
  },
  {
   "cell_type": "markdown",
   "metadata": {},
   "source": [
    "### making different folder for each restro"
   ]
  },
  {
   "cell_type": "code",
   "execution_count": 17,
   "metadata": {},
   "outputs": [],
   "source": [
    "import os\n",
    "# Use the save path as above \n",
    "path='C:\\\\Users\\\\muska\\\\OneDrive\\\\Desktop\\\\Voosh_intern\\\\Transformed_zomato'\n",
    "os.chdir(path)\n",
    "for i in range(len(res_id)):\n",
    "    newfolder=str(int(res_id[i]))\n",
    "    os.makedirs(newfolder)"
   ]
  },
  {
   "cell_type": "code",
   "execution_count": 18,
   "metadata": {},
   "outputs": [],
   "source": [
    "import shutil\n",
    "source = 'C:\\\\Users\\\\muska\\\\OneDrive\\\\Desktop\\\\Voosh_intern\\\\Transformed_zomato'\n",
    "for i in range(len(res_id)):\n",
    "    \n",
    "    f1=str(int(res_id[i]))\n",
    "    dest ='C:\\\\Users\\\\muska\\\\OneDrive\\\\Desktop\\\\Voosh_intern\\\\Transformed_zomato\\\\'\n",
    "\n",
    "    files = os.listdir(source)\n",
    "\n",
    "    for f in files:\n",
    "        if (f.startswith(\"invoice_\"+f1)):\n",
    "            shutil.move(f, dest+f1)"
   ]
  },
  {
   "cell_type": "code",
   "execution_count": 19,
   "metadata": {},
   "outputs": [],
   "source": [
    "# SAVING THE DATAFRAME AS CSV File\n",
    "final.to_csv(r'C:\\\\Users\\\\muska\\\\OneDrive\\\\Desktop\\\\Voosh_intern\\\\transformed_data.csv')"
   ]
  }
 ],
 "metadata": {
  "kernelspec": {
   "display_name": "Python 3",
   "language": "python",
   "name": "python3"
  },
  "language_info": {
   "codemirror_mode": {
    "name": "ipython",
    "version": 3
   },
   "file_extension": ".py",
   "mimetype": "text/x-python",
   "name": "python",
   "nbconvert_exporter": "python",
   "pygments_lexer": "ipython3",
   "version": "3.8.5"
  }
 },
 "nbformat": 4,
 "nbformat_minor": 4
}
